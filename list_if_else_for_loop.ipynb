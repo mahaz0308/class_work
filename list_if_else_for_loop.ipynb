{
 "cells": [
  {
   "cell_type": "markdown",
   "metadata": {},
   "source": [
    "# list"
   ]
  },
  {
   "cell_type": "code",
   "execution_count": null,
   "metadata": {},
   "outputs": [],
   "source": [
    "saman1='gost'\n",
    "saman2='dahi'\n",
    "daman3='tmater'\n"
   ]
  },
  {
   "cell_type": "code",
   "execution_count": 1,
   "metadata": {},
   "outputs": [
    {
     "name": "stdout",
     "output_type": "stream",
     "text": [
      "['gosht', 'dahi', 'tmater']\n"
     ]
    }
   ],
   "source": [
    "list_saman=['gosht','dahi','tmater']\n",
    "print(list_saman)"
   ]
  },
  {
   "cell_type": "code",
   "execution_count": 2,
   "metadata": {},
   "outputs": [
    {
     "name": "stdout",
     "output_type": "stream",
     "text": [
      "['gosht', 'dahi', 'tmater', 'hair cut', 'beard', 'shave']\n"
     ]
    }
   ],
   "source": [
    "new_list=list_saman + ['hair cut','beard','shave']\n",
    "print(new_list)"
   ]
  },
  {
   "cell_type": "code",
   "execution_count": 3,
   "metadata": {},
   "outputs": [
    {
     "name": "stdout",
     "output_type": "stream",
     "text": [
      "['dahi', 'tmater', 'hair cut']\n"
     ]
    }
   ],
   "source": [
    "print(new_list[1:4])"
   ]
  },
  {
   "cell_type": "code",
   "execution_count": 4,
   "metadata": {},
   "outputs": [
    {
     "name": "stdout",
     "output_type": "stream",
     "text": [
      "['dahi', 'hair cut']\n"
     ]
    }
   ],
   "source": [
    "print(new_list[1:4:2])"
   ]
  },
  {
   "cell_type": "code",
   "execution_count": 5,
   "metadata": {},
   "outputs": [
    {
     "name": "stdout",
     "output_type": "stream",
     "text": [
      "['dahi', 'hair cut', 'shave']\n"
     ]
    }
   ],
   "source": [
    "print(new_list[1::2])"
   ]
  },
  {
   "cell_type": "code",
   "execution_count": 6,
   "metadata": {},
   "outputs": [
    {
     "name": "stdout",
     "output_type": "stream",
     "text": [
      "['gosht', 'tmater']\n"
     ]
    }
   ],
   "source": [
    "print(new_list[:4:2])"
   ]
  },
  {
   "cell_type": "code",
   "execution_count": 7,
   "metadata": {},
   "outputs": [
    {
     "name": "stdout",
     "output_type": "stream",
     "text": [
      "['tmater', 'hair cut', 'beard']\n"
     ]
    }
   ],
   "source": [
    "print(new_list[-4:-1])"
   ]
  },
  {
   "cell_type": "code",
   "execution_count": 10,
   "metadata": {},
   "outputs": [
    {
     "name": "stdout",
     "output_type": "stream",
     "text": [
      "['shave', 'beard', 'hair cut']\n"
     ]
    }
   ],
   "source": [
    "print(new_list[-1:-4:-1])"
   ]
  },
  {
   "cell_type": "code",
   "execution_count": 13,
   "metadata": {},
   "outputs": [
    {
     "name": "stdout",
     "output_type": "stream",
     "text": [
      "[]\n"
     ]
    }
   ],
   "source": [
    "print(new_list[-2:5:-1])"
   ]
  },
  {
   "cell_type": "code",
   "execution_count": 14,
   "metadata": {},
   "outputs": [
    {
     "name": "stdout",
     "output_type": "stream",
     "text": [
      "['beard']\n"
     ]
    }
   ],
   "source": [
    "print(new_list[-2:5:1])"
   ]
  },
  {
   "cell_type": "code",
   "execution_count": 18,
   "metadata": {},
   "outputs": [
    {
     "name": "stdout",
     "output_type": "stream",
     "text": [
      "['a', 'b', 'c']\n"
     ]
    }
   ],
   "source": [
    "l1=['a','b','c']\n",
    "print(l1)\n",
    "    "
   ]
  },
  {
   "cell_type": "code",
   "execution_count": 20,
   "metadata": {},
   "outputs": [
    {
     "name": "stdout",
     "output_type": "stream",
     "text": [
      "['c', 'b', 'a']\n"
     ]
    }
   ],
   "source": [
    "print(l1[::-1])"
   ]
  },
  {
   "cell_type": "code",
   "execution_count": 23,
   "metadata": {},
   "outputs": [],
   "source": [
    "new_list.append(\"moo dhona\")"
   ]
  },
  {
   "cell_type": "code",
   "execution_count": 24,
   "metadata": {},
   "outputs": [
    {
     "name": "stdout",
     "output_type": "stream",
     "text": [
      "['gosht', 'dahi', 'tmater', 'hair cut', 'beard', 'shave', 'moo dhona', 'moo dhona', 'moo dhona']\n"
     ]
    }
   ],
   "source": [
    "print(new_list)"
   ]
  },
  {
   "cell_type": "code",
   "execution_count": 25,
   "metadata": {},
   "outputs": [],
   "source": [
    "del new_list[6]"
   ]
  },
  {
   "cell_type": "code",
   "execution_count": 26,
   "metadata": {},
   "outputs": [
    {
     "name": "stdout",
     "output_type": "stream",
     "text": [
      "['gosht', 'dahi', 'tmater', 'hair cut', 'beard', 'shave', 'moo dhona', 'moo dhona']\n"
     ]
    }
   ],
   "source": [
    "print(new_list)"
   ]
  },
  {
   "cell_type": "code",
   "execution_count": 28,
   "metadata": {},
   "outputs": [],
   "source": [
    "del new_list[5]"
   ]
  },
  {
   "cell_type": "code",
   "execution_count": 29,
   "metadata": {},
   "outputs": [
    {
     "name": "stdout",
     "output_type": "stream",
     "text": [
      "['gosht', 'dahi', 'tmater', 'hair cut', 'beard', 'moo dhona']\n"
     ]
    }
   ],
   "source": [
    "print(new_list)"
   ]
  },
  {
   "cell_type": "code",
   "execution_count": 30,
   "metadata": {},
   "outputs": [],
   "source": [
    "new_list.remove(\"moo dhona\")"
   ]
  },
  {
   "cell_type": "code",
   "execution_count": 31,
   "metadata": {},
   "outputs": [
    {
     "name": "stdout",
     "output_type": "stream",
     "text": [
      "['gosht', 'dahi', 'tmater', 'hair cut', 'beard']\n"
     ]
    }
   ],
   "source": [
    "print(new_list)"
   ]
  },
  {
   "cell_type": "code",
   "execution_count": 34,
   "metadata": {},
   "outputs": [
    {
     "name": "stdout",
     "output_type": "stream",
     "text": [
      "6\n"
     ]
    }
   ],
   "source": [
    "print(len(new_list))"
   ]
  },
  {
   "cell_type": "code",
   "execution_count": 36,
   "metadata": {},
   "outputs": [
    {
     "name": "stdout",
     "output_type": "stream",
     "text": [
      "['gosht', 'dahi', 'tmater', 'podina', 'podina', 'hair cut', 'beard']\n"
     ]
    }
   ],
   "source": [
    "new_list.insert(3,\"podina\")\n",
    "print(new_list)"
   ]
  },
  {
   "cell_type": "code",
   "execution_count": 37,
   "metadata": {},
   "outputs": [
    {
     "name": "stdout",
     "output_type": "stream",
     "text": [
      "7\n"
     ]
    }
   ],
   "source": [
    "print(len(new_list))"
   ]
  },
  {
   "cell_type": "code",
   "execution_count": 39,
   "metadata": {},
   "outputs": [
    {
     "name": "stdout",
     "output_type": "stream",
     "text": [
      "['gosht', 'dahi', 'tmater', 'dhinya', 'dhinya', 'hair cut', 'beard']\n"
     ]
    }
   ],
   "source": [
    "new_list[4]=\"dhinya\"\n",
    "print(new_list)"
   ]
  },
  {
   "cell_type": "code",
   "execution_count": 40,
   "metadata": {},
   "outputs": [
    {
     "name": "stdout",
     "output_type": "stream",
     "text": [
      "['gosht', 'dahi', 'tmater', 'dhinya', 'hair cut', 'beard']\n"
     ]
    }
   ],
   "source": [
    "new_list.remove(\"dhinya\")\n",
    "print(new_list)"
   ]
  },
  {
   "cell_type": "code",
   "execution_count": 41,
   "metadata": {},
   "outputs": [
    {
     "name": "stdout",
     "output_type": "stream",
     "text": [
      "['gosht', 'dahi', 'tmater', 'podina', 'hair cut', 'beard']\n"
     ]
    }
   ],
   "source": [
    "new_list[3]=\"podina\"\n",
    "print(new_list)"
   ]
  },
  {
   "cell_type": "markdown",
   "metadata": {},
   "source": [
    "# if-else"
   ]
  },
  {
   "cell_type": "code",
   "execution_count": null,
   "metadata": {},
   "outputs": [],
   "source": [
    "#if a==b or a>b or a<b:\n",
    "#    a=+b\n",
    "#  elif a>b:\n",
    "#        print(a)\n"
   ]
  },
  {
   "cell_type": "code",
   "execution_count": 47,
   "metadata": {},
   "outputs": [
    {
     "name": "stdout",
     "output_type": "stream",
     "text": [
      "imran bhi\n"
     ]
    }
   ],
   "source": [
    "person=\"karachi\"\n",
    "if person==\"karachi\":\n",
    "    print(\"imran bhi\")\n",
    "elif person==\"peshawar\":\n",
    "    print(\"kaan saib\")\n",
    "elif person==\"faslabad\" :\n",
    "    print(\"mrann khan\")\n",
    "elif person==\"isb\" : \n",
    "    print(\"IK <3\")\n",
    "else:\n",
    "    print(\"imran khan nayazi\")    \n",
    "    "
   ]
  },
  {
   "cell_type": "markdown",
   "metadata": {},
   "source": [
    "# for loop "
   ]
  },
  {
   "cell_type": "code",
   "execution_count": 48,
   "metadata": {},
   "outputs": [
    {
     "name": "stdout",
     "output_type": "stream",
     "text": [
      "1\n",
      "2\n",
      "3\n",
      "4\n",
      "5\n",
      "6\n",
      "7\n",
      "8\n",
      "9\n"
     ]
    }
   ],
   "source": [
    "for i in range(1,10):\n",
    "    print(i)\n"
   ]
  },
  {
   "cell_type": "code",
   "execution_count": 52,
   "metadata": {},
   "outputs": [
    {
     "name": "stdout",
     "output_type": "stream",
     "text": [
      "10\n",
      "9\n",
      "8\n",
      "7\n",
      "6\n",
      "5\n",
      "4\n",
      "3\n",
      "2\n",
      "1\n"
     ]
    }
   ],
   "source": [
    "for i in range(10,0,-1):\n",
    "    print(i)"
   ]
  },
  {
   "cell_type": "code",
   "execution_count": 56,
   "metadata": {},
   "outputs": [
    {
     "name": "stdout",
     "output_type": "stream",
     "text": [
      "not found\n"
     ]
    }
   ],
   "source": [
    "task=\"moo dhona\"\n",
    "if task==new_list[0]:\n",
    "    print(\"found\")\n",
    "elif task==new_list[1]:\n",
    "    print(\"found\")\n",
    "else:\n",
    "    print(\"not found\")\n",
    "    "
   ]
  },
  {
   "cell_type": "code",
   "execution_count": 62,
   "metadata": {},
   "outputs": [
    {
     "name": "stdout",
     "output_type": "stream",
     "text": [
      "found\n"
     ]
    }
   ],
   "source": [
    "for task in new_list:\n",
    "    if task==\"tmater\":\n",
    "        print(\"found\")\n",
    "    "
   ]
  },
  {
   "cell_type": "code",
   "execution_count": 69,
   "metadata": {},
   "outputs": [
    {
     "name": "stdout",
     "output_type": "stream",
     "text": [
      "found:2\n"
     ]
    }
   ],
   "source": [
    "for task in range (len(new_list)):\n",
    "    if \"tmater\"==new_list[task]:\n",
    "        print(\"found:\"+ str(task))"
   ]
  },
  {
   "cell_type": "code",
   "execution_count": 73,
   "metadata": {},
   "outputs": [
    {
     "name": "stdout",
     "output_type": "stream",
     "text": [
      "enter a number-9\n",
      "this is negative\n"
     ]
    }
   ],
   "source": [
    "user=int(input(\"enter a number\"))\n",
    "if user>=0:\n",
    "    print(\"this is positive number\")\n",
    "else:\n",
    "    print(\"this is negative\")"
   ]
  },
  {
   "cell_type": "code",
   "execution_count": null,
   "metadata": {},
   "outputs": [],
   "source": [
    "sub1=int(input(\"enter your markes in subj1:\"))\n",
    "if sub1>=90:\n",
    "    print(\"you got A grade\")\n",
    "elif sub1>=80:\n",
    "    print(\"you got B grade\")\n",
    "elif sub1>=70:\n",
    "    print(\"you got C grade\")\n",
    "elif sub1>=60:\n",
    "    print(\"you got D grade\")\n",
    "elif sub1>=50:\n",
    "    print(\"you got -D grade\")\n",
    "else:\n",
    "    print(\"your fail\")\n",
    "\n",
    "sub2=int(input(\"enter your markes in subj2:\"))\n",
    "if sub2>=90:\n",
    "    print(\"you got A grade\")\n",
    "elif sub2>=80:\n",
    "    print(\"you got B grade\")\n",
    "elif sub2>=70:\n",
    "    print(\"you got C grade\")\n",
    "elif sub2>=60:\n",
    "    print(\"you got D grade\")\n",
    "elif sub2>=50:\n",
    "    print(\"you got -D grade\")\n",
    "else:\n",
    "    print(\"your fail\")\n",
    "sub3=int(input(\"enter your markes in subj3:\"))\n",
    "if sub3>=90:\n",
    "    print(\"you got A grade\")\n",
    "elif sub3>=80:\n",
    "    print(\"you got B grade\")\n",
    "elif sub3>=70:\n",
    "    print(\"you got C grade\")\n",
    "elif sub3>=60:\n",
    "    print(\"you got D grade\")\n",
    "elif sub3>=50:\n",
    "    print(\"you got -D grade\")\n",
    "else:\n",
    "    print(\"your fail\")\n",
    "sub4=int(input(\"enter your markes in subj4:\"))\n",
    "\n",
    "\n",
    "if sub4 >=90:\n",
    "    print(\"you got A grade\")\n",
    "elif sub4>=80:\n",
    "    print(\"you got B grade\")\n",
    "elif sub4>=70:\n",
    "    print(\"you got C grade\")\n",
    "elif sub4>=60:\n",
    "    print(\"you got D grade\")\n",
    "elif sub4>=50:\n",
    "    print(\"you got -D grade\")\n",
    "else:\n",
    "    print(\"your fail\")\n",
    "    \n",
    "    "
   ]
  },
  {
   "cell_type": "code",
   "execution_count": null,
   "metadata": {},
   "outputs": [],
   "source": [
    "for i in range(0,6):\n",
    "    user = int(input(\"enter your marks in subject:\"))\n",
    "    if user >=90:\n",
    "              print(\"you got A grade\")\n",
    "    elif user>=80:\n",
    "              print(\"you got B grade\")\n",
    "    elif user>=70:\n",
    "              print(\"you got C grade\")\n",
    "    elif user>=60:\n",
    "              print(\"you got D grade\")\n",
    "    elif user>=50:\n",
    "              print(\"you got -D grade\")\n",
    "    else:\n",
    "              print(\"your fail\")    \n",
    "    "
   ]
  },
  {
   "cell_type": "code",
   "execution_count": null,
   "metadata": {},
   "outputs": [],
   "source": []
  },
  {
   "cell_type": "code",
   "execution_count": null,
   "metadata": {},
   "outputs": [],
   "source": []
  }
 ],
 "metadata": {
  "kernelspec": {
   "display_name": "Python 3",
   "language": "python",
   "name": "python3"
  },
  "language_info": {
   "codemirror_mode": {
    "name": "ipython",
    "version": 3
   },
   "file_extension": ".py",
   "mimetype": "text/x-python",
   "name": "python",
   "nbconvert_exporter": "python",
   "pygments_lexer": "ipython3",
   "version": "3.7.3"
  }
 },
 "nbformat": 4,
 "nbformat_minor": 2
}
