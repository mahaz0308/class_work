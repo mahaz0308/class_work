{
 "cells": [
  {
   "cell_type": "code",
   "execution_count": 5,
   "metadata": {},
   "outputs": [
    {
     "name": "stdout",
     "output_type": "stream",
     "text": [
      "  i love pakistan  \n"
     ]
    }
   ],
   "source": [
    "string=\"  i love pakistan  \"\n",
    "print(string)"
   ]
  },
  {
   "cell_type": "code",
   "execution_count": 17,
   "metadata": {},
   "outputs": [],
   "source": [
    "print=(string[string.find(\"pakistan\"):16:1])"
   ]
  },
  {
   "cell_type": "code",
   "execution_count": 4,
   "metadata": {},
   "outputs": [
    {
     "name": "stdout",
     "output_type": "stream",
     "text": [
      "i love pakistan\n"
     ]
    }
   ],
   "source": [
    "print(string.strip())"
   ]
  },
  {
   "cell_type": "code",
   "execution_count": 6,
   "metadata": {},
   "outputs": [
    {
     "name": "stdout",
     "output_type": "stream",
     "text": [
      "  i love pakistan\n"
     ]
    }
   ],
   "source": [
    "print(string.rstrip())"
   ]
  },
  {
   "cell_type": "code",
   "execution_count": 7,
   "metadata": {},
   "outputs": [
    {
     "name": "stdout",
     "output_type": "stream",
     "text": [
      "i love pakistan  \n"
     ]
    }
   ],
   "source": [
    "print(string.lstrip())"
   ]
  },
  {
   "cell_type": "code",
   "execution_count": 10,
   "metadata": {},
   "outputs": [
    {
     "name": "stdout",
     "output_type": "stream",
     "text": [
      "['i', 'love', 'pakistan.']\n"
     ]
    }
   ],
   "source": [
    "string=\"i love pakistan.\"\n",
    "print(string.split())"
   ]
  },
  {
   "cell_type": "code",
   "execution_count": 11,
   "metadata": {},
   "outputs": [
    {
     "name": "stdout",
     "output_type": "stream",
     "text": [
      "['i love ', 'akistan.']\n"
     ]
    }
   ],
   "source": [
    "print(s.split(\"p\"))"
   ]
  },
  {
   "cell_type": "code",
   "execution_count": 12,
   "metadata": {},
   "outputs": [
    {
     "name": "stdout",
     "output_type": "stream",
     "text": [
      "\n",
      "student name:mahaz\n",
      "batch: 3\n",
      "center bahria uni\n",
      "\n"
     ]
    }
   ],
   "source": [
    "card='''\n",
    "student name:mahaz\n",
    "batch: 3\n",
    "center bahria uni\n",
    "'''\n",
    "print(card)"
   ]
  },
  {
   "cell_type": "code",
   "execution_count": 12,
   "metadata": {},
   "outputs": [
    {
     "name": "stdout",
     "output_type": "stream",
     "text": [
      "student name: mahaz\n",
      "batch:3\n",
      "center: bahria uni \n",
      "roll_no: 23\n"
     ]
    }
   ],
   "source": [
    "name=\"mahaz\"\n",
    "batch=\"3\"\n",
    "center=\"bahria uni\"\n",
    "roll_no=23\n",
    "print(\"student name: %s\\nbatch:%s\\ncenter: %s \\nroll_no: %d\"%(name, batch,center,roll_no))"
   ]
  },
  {
   "cell_type": "code",
   "execution_count": 13,
   "metadata": {},
   "outputs": [
    {
     "name": "stdout",
     "output_type": "stream",
     "text": [
      "student name: mahaz\n",
      "batch:3\n",
      "center: bahria uni\n",
      "score: 90\n"
     ]
    }
   ],
   "source": [
    "name=\"mahaz\"\n",
    "batch=\"3\"\n",
    "center=\"bahria uni\"\n",
    "quiz_score=90\n",
    "print(\"student name: %s\\nbatch:%s\\ncenter: %s\\nscore: %d\"%(name, batch,center,quiz_score))"
   ]
  },
  {
   "cell_type": "code",
   "execution_count": 16,
   "metadata": {},
   "outputs": [
    {
     "name": "stdout",
     "output_type": "stream",
     "text": [
      "student name: mahaz\n",
      "batch:3\n",
      "center: bahria uni\n"
     ]
    }
   ],
   "source": [
    "print(\"student name: \"+ name +\"\\nbatch:\"+batch+\"\\ncenter: \"+center)"
   ]
  },
  {
   "cell_type": "code",
   "execution_count": 21,
   "metadata": {},
   "outputs": [
    {
     "name": "stdout",
     "output_type": "stream",
     "text": [
      "student name: mahaz\n",
      "batch: 3\n",
      "center:bahria uni\n",
      "quiz score:90\n"
     ]
    }
   ],
   "source": [
    "print(\"student name: {}\\nbatch: {}\\ncenter:{}\\nquiz score:{}\".format(name,batch,center,quiz_score))"
   ]
  },
  {
   "cell_type": "code",
   "execution_count": 28,
   "metadata": {},
   "outputs": [
    {
     "name": "stdout",
     "output_type": "stream",
     "text": [
      "student name:mahaz \n",
      "batch: 3 \n",
      "center:bahria uni\n",
      "quiz sore 90\n",
      "\n"
     ]
    }
   ],
   "source": [
    "print(\"student name:{0} \\nbatch: {1} \\ncenter:{2}\\nquiz sore {3}\\n\".format(name,batch,center,quiz_score))"
   ]
  },
  {
   "cell_type": "code",
   "execution_count": null,
   "metadata": {},
   "outputs": [],
   "source": [
    "#%s,%f.......assignment\n"
   ]
  },
  {
   "cell_type": "code",
   "execution_count": 2,
   "metadata": {},
   "outputs": [
    {
     "name": "stdout",
     "output_type": "stream",
     "text": [
      "2.2352\t12.4\n"
     ]
    }
   ],
   "source": [
    "print (\"%.*g\\t%.*g\" % (5, 2.23523523, 3, 12.353262))"
   ]
  },
  {
   "cell_type": "code",
   "execution_count": 15,
   "metadata": {},
   "outputs": [
    {
     "name": "stdout",
     "output_type": "stream",
     "text": [
      "name,23,27.000000\n"
     ]
    }
   ],
   "source": [
    "print(\"%s,%d,%f\" %(\"name\",23,3**3))"
   ]
  },
  {
   "cell_type": "code",
   "execution_count": 2,
   "metadata": {},
   "outputs": [
    {
     "name": "stdout",
     "output_type": "stream",
     "text": [
      "student name: mahaz and age: 23\n"
     ]
    }
   ],
   "source": [
    "name=\"mahaz\"\n",
    "age=\"23\"\n",
    "print(f\"student name: {name} and age: {age}\")"
   ]
  },
  {
   "cell_type": "code",
   "execution_count": null,
   "metadata": {},
   "outputs": [],
   "source": []
  }
 ],
 "metadata": {
  "kernelspec": {
   "display_name": "Python 3",
   "language": "python",
   "name": "python3"
  },
  "language_info": {
   "codemirror_mode": {
    "name": "ipython",
    "version": 3
   },
   "file_extension": ".py",
   "mimetype": "text/x-python",
   "name": "python",
   "nbconvert_exporter": "python",
   "pygments_lexer": "ipython3",
   "version": "3.7.3"
  }
 },
 "nbformat": 4,
 "nbformat_minor": 2
}
