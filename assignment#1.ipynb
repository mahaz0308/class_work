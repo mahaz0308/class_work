{
 "cells": [
  {
   "cell_type": "code",
   "execution_count": 11,
   "metadata": {},
   "outputs": [
    {
     "name": "stdout",
     "output_type": "stream",
     "text": [
      "my name is MAHAZ abbasi!\n"
     ]
    }
   ],
   "source": [
    "name = (\"my name is MAHAZ abbasi\")\n",
    "print(name)"
   ]
  },
  {
   "cell_type": "code",
   "execution_count": 12,
   "metadata": {},
   "outputs": [
    {
     "name": "stdout",
     "output_type": "stream",
     "text": [
      "My name is mahaz abbasi!\n"
     ]
    }
   ],
   "source": [
    "print(name.capitalize())"
   ]
  },
  {
   "cell_type": "code",
   "execution_count": 13,
   "metadata": {},
   "outputs": [
    {
     "name": "stdout",
     "output_type": "stream",
     "text": [
      "my name is mahaz abbasi!\n"
     ]
    }
   ],
   "source": [
    "print(name.casefold())"
   ]
  },
  {
   "cell_type": "code",
   "execution_count": 78,
   "metadata": {},
   "outputs": [
    {
     "name": "stdout",
     "output_type": "stream",
     "text": [
      "###my name is MAHAZ abbasi!###\n"
     ]
    }
   ],
   "source": [
    "print(name.center(30,\"#\"))"
   ]
  },
  {
   "cell_type": "code",
   "execution_count": 15,
   "metadata": {},
   "outputs": [
    {
     "name": "stdout",
     "output_type": "stream",
     "text": [
      "3\n"
     ]
    }
   ],
   "source": [
    "print(name.count(\"a\"))"
   ]
  },
  {
   "cell_type": "code",
   "execution_count": 16,
   "metadata": {},
   "outputs": [
    {
     "name": "stdout",
     "output_type": "stream",
     "text": [
      "b'my name is MAHAZ abbasi!'\n"
     ]
    }
   ],
   "source": [
    "print(name.encode())"
   ]
  },
  {
   "cell_type": "code",
   "execution_count": 17,
   "metadata": {},
   "outputs": [
    {
     "name": "stdout",
     "output_type": "stream",
     "text": [
      "True\n"
     ]
    }
   ],
   "source": [
    "print(name.endswith(\"!\"))"
   ]
  },
  {
   "cell_type": "code",
   "execution_count": 19,
   "metadata": {},
   "outputs": [
    {
     "name": "stdout",
     "output_type": "stream",
     "text": [
      "my name is MAHAZ abbasi!\n",
      "my name is MAHAZ abbasi!\n"
     ]
    }
   ],
   "source": [
    "print(name.expandtabs(2))\n",
    "print(name)"
   ]
  },
  {
   "cell_type": "code",
   "execution_count": 38,
   "metadata": {},
   "outputs": [
    {
     "name": "stdout",
     "output_type": "stream",
     "text": [
      "5\n"
     ]
    }
   ],
   "source": [
    "print(name.find(\"m\",2))"
   ]
  },
  {
   "cell_type": "code",
   "execution_count": 26,
   "metadata": {},
   "outputs": [
    {
     "name": "stdout",
     "output_type": "stream",
     "text": [
      "my name is mahaz.my father name iswaheed\n"
     ]
    }
   ],
   "source": [
    "print(\"my name is {}.my father name is{}\" .format(\"mahaz\",\"waheed\"))"
   ]
  },
  {
   "cell_type": "code",
   "execution_count": null,
   "metadata": {},
   "outputs": [],
   "source": [
    "print(name.format_map(\"m\"))"
   ]
  },
  {
   "cell_type": "code",
   "execution_count": 34,
   "metadata": {},
   "outputs": [
    {
     "name": "stdout",
     "output_type": "stream",
     "text": [
      "my name is mahaz and my father name is waheed\n"
     ]
    }
   ],
   "source": [
    "point={\"x\":\"mahaz\",\"y\":\"waheed\"}\n",
    "print('my name is {x} and my father name is {y}'.format_map(point))"
   ]
  },
  {
   "cell_type": "code",
   "execution_count": 40,
   "metadata": {},
   "outputs": [
    {
     "name": "stdout",
     "output_type": "stream",
     "text": [
      "5\n",
      "my name is MAHAZ abbasi!\n"
     ]
    }
   ],
   "source": [
    "print(name.index(\"m\",3))\n",
    "print(name)"
   ]
  },
  {
   "cell_type": "code",
   "execution_count": 48,
   "metadata": {},
   "outputs": [
    {
     "name": "stdout",
     "output_type": "stream",
     "text": [
      "False\n",
      "True\n"
     ]
    }
   ],
   "source": [
    "n=\"mahaz abbasi\"\n",
    "print(n.isalnum())\n",
    "n=\"mahaz123\"\n",
    "print(n.isalnum())"
   ]
  },
  {
   "cell_type": "code",
   "execution_count": 52,
   "metadata": {},
   "outputs": [
    {
     "name": "stdout",
     "output_type": "stream",
     "text": [
      "True\n",
      "False\n"
     ]
    }
   ],
   "source": [
    "n=\"mahaz\"\n",
    "print(n.isalpha())\n",
    "n=\"mahaz123\"\n",
    "print(n.isalpha())"
   ]
  },
  {
   "cell_type": "code",
   "execution_count": 61,
   "metadata": {},
   "outputs": [
    {
     "name": "stdout",
     "output_type": "stream",
     "text": [
      "True\n"
     ]
    }
   ],
   "source": [
    "n=\"mahaz abbasi\"\n",
    "print(n.isascii())"
   ]
  },
  {
   "cell_type": "code",
   "execution_count": 70,
   "metadata": {},
   "outputs": [
    {
     "name": "stdout",
     "output_type": "stream",
     "text": [
      "False\n",
      "True\n"
     ]
    }
   ],
   "source": [
    "n=\"mahaz abbasi\"\n",
    "print(n.isdecimal())\n",
    "n=\"43\"\n",
    "print(n.isdecimal())"
   ]
  },
  {
   "cell_type": "code",
   "execution_count": 76,
   "metadata": {},
   "outputs": [
    {
     "name": "stdout",
     "output_type": "stream",
     "text": [
      "False\n",
      "True\n"
     ]
    }
   ],
   "source": [
    "n=\"maaz\"\n",
    "print(n.isdigit())\n",
    "n=\"43\"\n",
    "print(n.isdigit())"
   ]
  },
  {
   "cell_type": "code",
   "execution_count": 87,
   "metadata": {},
   "outputs": [
    {
     "name": "stdout",
     "output_type": "stream",
     "text": [
      "True\n",
      "True\n"
     ]
    }
   ],
   "source": [
    "n=\"maaz\"\n",
    "print(n.isidentifier())\n",
    "n=\"_mahazabbasi\"\n",
    "print(n.isidentifier())"
   ]
  },
  {
   "cell_type": "code",
   "execution_count": 93,
   "metadata": {},
   "outputs": [
    {
     "name": "stdout",
     "output_type": "stream",
     "text": [
      "False\n",
      "True\n"
     ]
    }
   ],
   "source": [
    "n=\"maHaz\"\n",
    "print(n.islower())\n",
    "n=\"mahaz abbasi\"\n",
    "print(n.islower())"
   ]
  },
  {
   "cell_type": "code",
   "execution_count": 98,
   "metadata": {},
   "outputs": [
    {
     "name": "stdout",
     "output_type": "stream",
     "text": [
      "True\n",
      "False\n"
     ]
    }
   ],
   "source": [
    "n=\"1234\"\n",
    "print(n.isnumeric())\n",
    "n=\"mahaz abbasi\"\n",
    "print(n.isnumeric())"
   ]
  },
  {
   "cell_type": "code",
   "execution_count": 109,
   "metadata": {},
   "outputs": [
    {
     "name": "stdout",
     "output_type": "stream",
     "text": [
      "False\n",
      "True\n"
     ]
    }
   ],
   "source": [
    "n=\"\\t1234\"\n",
    "print(n.isprintable())\n",
    "n=\"mahaz abbasi\"\n",
    "print(n.isprintable())"
   ]
  },
  {
   "cell_type": "code",
   "execution_count": 5,
   "metadata": {},
   "outputs": [
    {
     "name": "stdout",
     "output_type": "stream",
     "text": [
      "True\n",
      "False\n"
     ]
    }
   ],
   "source": [
    "n=\" \"\n",
    "print(n.isspace())\n",
    "n=\"mahaz abbasi\"\n",
    "print(n.isspace())"
   ]
  },
  {
   "cell_type": "code",
   "execution_count": 11,
   "metadata": {},
   "outputs": [
    {
     "name": "stdout",
     "output_type": "stream",
     "text": [
      "False\n",
      "True\n"
     ]
    }
   ],
   "source": [
    "n=\"MAHAZ \"\n",
    "print(n.istitle())\n",
    "n=\"Mahaz Abbasi\"\n",
    "print(n.istitle())"
   ]
  },
  {
   "cell_type": "code",
   "execution_count": 15,
   "metadata": {},
   "outputs": [
    {
     "name": "stdout",
     "output_type": "stream",
     "text": [
      "True\n",
      "False\n"
     ]
    }
   ],
   "source": [
    "n=\"MAHAZ\"\n",
    "print(n.isupper())\n",
    "n=\"Mahaz Abbasi\"\n",
    "print(n.isupper())"
   ]
  },
  {
   "cell_type": "code",
   "execution_count": 23,
   "metadata": {},
   "outputs": [
    {
     "name": "stdout",
     "output_type": "stream",
     "text": [
      "M-A-H-A-Z\n"
     ]
    }
   ],
   "source": [
    "n=\"MAHAZ\"\n",
    "s=\"-\"\n",
    "print(s.join(n))"
   ]
  },
  {
   "cell_type": "code",
   "execution_count": 32,
   "metadata": {},
   "outputs": [
    {
     "name": "stdout",
     "output_type": "stream",
     "text": [
      "Mahaz###\n"
     ]
    }
   ],
   "source": [
    "n=\"Mahaz\"\n",
    "print(n.ljust(8,\"#\"))"
   ]
  },
  {
   "cell_type": "code",
   "execution_count": 36,
   "metadata": {},
   "outputs": [
    {
     "name": "stdout",
     "output_type": "stream",
     "text": [
      "mahaz\n",
      "mahaz abbasi\n"
     ]
    }
   ],
   "source": [
    "n=\"MAHAZ\"\n",
    "print(n.lower())\n",
    "n=\"Mahaz Abbasi\"\n",
    "print(n.lower())"
   ]
  },
  {
   "cell_type": "code",
   "execution_count": 59,
   "metadata": {},
   "outputs": [
    {
     "name": "stdout",
     "output_type": "stream",
     "text": [
      "MAHAZ\n",
      "haz Abbasi\n"
     ]
    }
   ],
   "source": [
    "n=\"   MAHAZ\"\n",
    "print(n.lstrip())\n",
    "n=\"Mahaz Abbasi\"\n",
    "print(n.lstrip(\"Ma\"))"
   ]
  },
  {
   "cell_type": "code",
   "execution_count": 60,
   "metadata": {},
   "outputs": [
    {
     "name": "stdout",
     "output_type": "stream",
     "text": [
      "{100: 5, 98: 4}\n"
     ]
    }
   ],
   "source": [
    "dict={\"d\":3,\"b\":4,\"d\":5}\n",
    "n=\"bah\"\n",
    "print(n.maketrans(dict))"
   ]
  },
  {
   "cell_type": "code",
   "execution_count": 6,
   "metadata": {},
   "outputs": [
    {
     "name": "stdout",
     "output_type": "stream",
     "text": [
      "('', 'MAHAZ', ' is my name')\n",
      "('Mahaz ', 'is', ' Abbasi')\n"
     ]
    }
   ],
   "source": [
    "n=\"MAHAZ is my name\"\n",
    "print(n.partition(\"MAHAZ\"))\n",
    "n=\"Mahaz is Abbasi\"\n",
    "print(n.partition(\"is\"))"
   ]
  },
  {
   "cell_type": "code",
   "execution_count": 17,
   "metadata": {},
   "outputs": [
    {
     "name": "stdout",
     "output_type": "stream",
     "text": [
      "MAHAZ is qy naqe\n",
      "Mahaz i@ Abbasi\n"
     ]
    }
   ],
   "source": [
    "n=\"MAHAZ is my name\"\n",
    "print(n.replace(\"m\",\"q\"))\n",
    "n=\"Mahaz is Abbasi\"\n",
    "print(n.replace(\"s\",\"@\",1))"
   ]
  },
  {
   "cell_type": "code",
   "execution_count": 36,
   "metadata": {},
   "outputs": [
    {
     "name": "stdout",
     "output_type": "stream",
     "text": [
      "-1\n",
      "12\n"
     ]
    }
   ],
   "source": [
    "n=\"MAHAZ is my name\"\n",
    "print(n.rfind(\"er\"))\n",
    "n=\"Mahaz is Abbasi\"\n",
    "print(n.rfind(\"a\"))"
   ]
  },
  {
   "cell_type": "code",
   "execution_count": 39,
   "metadata": {},
   "outputs": [
    {
     "ename": "ValueError",
     "evalue": "substring not found",
     "output_type": "error",
     "traceback": [
      "\u001b[1;31m---------------------------------------------------------------------------\u001b[0m",
      "\u001b[1;31mValueError\u001b[0m                                Traceback (most recent call last)",
      "\u001b[1;32m<ipython-input-39-22c83eb3bc82>\u001b[0m in \u001b[0;36m<module>\u001b[1;34m\u001b[0m\n\u001b[0;32m      1\u001b[0m \u001b[0mn\u001b[0m\u001b[1;33m=\u001b[0m\u001b[1;34m\"MAHAZ is my name\"\u001b[0m\u001b[1;33m\u001b[0m\u001b[1;33m\u001b[0m\u001b[0m\n\u001b[1;32m----> 2\u001b[1;33m \u001b[0mprint\u001b[0m\u001b[1;33m(\u001b[0m\u001b[0mn\u001b[0m\u001b[1;33m.\u001b[0m\u001b[0mrindex\u001b[0m\u001b[1;33m(\u001b[0m\u001b[1;34m\"er\"\u001b[0m\u001b[1;33m)\u001b[0m\u001b[1;33m)\u001b[0m\u001b[1;33m\u001b[0m\u001b[1;33m\u001b[0m\u001b[0m\n\u001b[0m\u001b[0;32m      3\u001b[0m \u001b[0mn\u001b[0m\u001b[1;33m=\u001b[0m\u001b[1;34m\"Mahaz is Abbasi\"\u001b[0m\u001b[1;33m\u001b[0m\u001b[1;33m\u001b[0m\u001b[0m\n\u001b[0;32m      4\u001b[0m \u001b[0mprint\u001b[0m\u001b[1;33m(\u001b[0m\u001b[0mn\u001b[0m\u001b[1;33m.\u001b[0m\u001b[0mrindex\u001b[0m\u001b[1;33m(\u001b[0m\u001b[1;34m\"a\"\u001b[0m\u001b[1;33m)\u001b[0m\u001b[1;33m)\u001b[0m\u001b[1;33m\u001b[0m\u001b[1;33m\u001b[0m\u001b[0m\n",
      "\u001b[1;31mValueError\u001b[0m: substring not found"
     ]
    }
   ],
   "source": [
    "n=\"MAHAZ is my name\"\n",
    "print(n.rindex(\"er\"))\n",
    "n=\"Mahaz is Abbasi\"\n",
    "print(n.rindex(\"a\"))"
   ]
  },
  {
   "cell_type": "code",
   "execution_count": 52,
   "metadata": {},
   "outputs": [
    {
     "name": "stdout",
     "output_type": "stream",
     "text": [
      "##MAHAZ\n",
      "Mahaz is Abbasi$$\n"
     ]
    }
   ],
   "source": [
    "n=\"MAHAZ\"\n",
    "print(n.rjust(7,\"#\"))\n",
    "n=\"Mahaz is Abbasi\"\n",
    "print(n.ljust(17,\"$\"))"
   ]
  },
  {
   "cell_type": "code",
   "execution_count": 57,
   "metadata": {},
   "outputs": [
    {
     "name": "stdout",
     "output_type": "stream",
     "text": [
      "('MAH', 'A', 'Z')\n",
      "('Mahaz ', 'is', ' Abbasi')\n"
     ]
    }
   ],
   "source": [
    "n=\"MAHAZ\"\n",
    "print(n.rpartition(\"A\"))\n",
    "n=\"Mahaz is Abbasi\"\n",
    "print(n.rpartition(\"is\"))"
   ]
  },
  {
   "cell_type": "code",
   "execution_count": 64,
   "metadata": {},
   "outputs": [
    {
     "name": "stdout",
     "output_type": "stream",
     "text": [
      "['MAHAZ', 'is']\n",
      "['Mahaz is ', '']\n"
     ]
    }
   ],
   "source": [
    "n=\"MAHAZ is \"\n",
    "print(n.rsplit())\n",
    "n=\"Mahaz is Abbasi\"\n",
    "print(n.rsplit(\"Abbasi\"))"
   ]
  },
  {
   "cell_type": "code",
   "execution_count": 86,
   "metadata": {},
   "outputs": [
    {
     "name": "stdout",
     "output_type": "stream",
     "text": [
      "MAHAZ \n",
      "Mahaz is Abba\n"
     ]
    }
   ],
   "source": [
    "n=\"MAHAZ is\"\n",
    "print(n.rstrip(\"is\"))\n",
    "n=\"Mahaz is Abbasi\"\n",
    "print(n.strip(\"is\"))"
   ]
  },
  {
   "cell_type": "code",
   "execution_count": 87,
   "metadata": {},
   "outputs": [
    {
     "name": "stdout",
     "output_type": "stream",
     "text": [
      "['MAHAZ ', '']\n",
      "['Mahaz ', ' Abbasi']\n"
     ]
    }
   ],
   "source": [
    "n=\"MAHAZ is\"\n",
    "print(n.split(\"is\"))\n",
    "n=\"Mahaz is Abbasi\"\n",
    "print(n.split(\"is\"))"
   ]
  },
  {
   "cell_type": "code",
   "execution_count": 93,
   "metadata": {},
   "outputs": [
    {
     "name": "stdout",
     "output_type": "stream",
     "text": [
      "['MAHAZ is']\n",
      "['Mahaz is', ' Abbasi']\n"
     ]
    }
   ],
   "source": [
    "n=\"MAHAZ is\"\n",
    "print(n.splitlines())\n",
    "n=\"Mahaz is\\n Abbasi\"\n",
    "print(n.splitlines())"
   ]
  },
  {
   "cell_type": "code",
   "execution_count": 97,
   "metadata": {},
   "outputs": [
    {
     "name": "stdout",
     "output_type": "stream",
     "text": [
      "True\n",
      "True\n"
     ]
    }
   ],
   "source": [
    "n=\"MAHAZ is\"\n",
    "print(n.startswith(\"MAHAZ\"))\n",
    "n=\"Mahaz is Abbasi\"\n",
    "print(n.startswith(\"is\",6,8))"
   ]
  },
  {
   "cell_type": "code",
   "execution_count": 110,
   "metadata": {},
   "outputs": [
    {
     "name": "stdout",
     "output_type": "stream",
     "text": [
      "MAHAZ is\n",
      "Mahaz is Abba\n"
     ]
    }
   ],
   "source": [
    "n=\"MAHAZ is\"\n",
    "print(n.strip(\"A\"))\n",
    "n=\"Mahaz is Abbasi\"\n",
    "print(n.strip(\"is\"))"
   ]
  },
  {
   "cell_type": "code",
   "execution_count": 111,
   "metadata": {},
   "outputs": [
    {
     "name": "stdout",
     "output_type": "stream",
     "text": [
      "mahaz IS ABBASi\n",
      "mAHAZ IS aBBASI\n"
     ]
    }
   ],
   "source": [
    "n=\"MAHAZ is abbasI\"\n",
    "print(n.swapcase())\n",
    "n=\"Mahaz is Abbasi\"\n",
    "print(n.swapcase())"
   ]
  },
  {
   "cell_type": "code",
   "execution_count": 112,
   "metadata": {},
   "outputs": [
    {
     "name": "stdout",
     "output_type": "stream",
     "text": [
      "Mahaz Is Abbasi\n",
      "Mahaz Is Abbasi\n"
     ]
    }
   ],
   "source": [
    "n=\"MAHAZ is abbasI\"\n",
    "print(n.title())\n",
    "n=\"Mahaz is Abbasi\"\n",
    "print(n.title())"
   ]
  },
  {
   "cell_type": "code",
   "execution_count": 114,
   "metadata": {},
   "outputs": [
    {
     "name": "stdout",
     "output_type": "stream",
     "text": [
      "MAHAZ IS ABBASI\n",
      "mahaz is abbasi\n"
     ]
    }
   ],
   "source": [
    "n=\"MAHAZ is abbasI\"\n",
    "print(n.upper())\n",
    "n=\"Mahaz is Abbasi\"\n",
    "print(n.lower())"
   ]
  },
  {
   "cell_type": "code",
   "execution_count": 120,
   "metadata": {},
   "outputs": [
    {
     "name": "stdout",
     "output_type": "stream",
     "text": [
      "00000MAHAZ is abbasI\n",
      "000000000000000Mahaz is Abbasi\n"
     ]
    }
   ],
   "source": [
    "n=\"MAHAZ is abbasI\"\n",
    "print(n.zfill(20))\n",
    "n=\"Mahaz is Abbasi\"\n",
    "print(n.zfill(30))"
   ]
  },
  {
   "cell_type": "code",
   "execution_count": null,
   "metadata": {},
   "outputs": [],
   "source": []
  }
 ],
 "metadata": {
  "kernelspec": {
   "display_name": "Python 3",
   "language": "python",
   "name": "python3"
  },
  "language_info": {
   "codemirror_mode": {
    "name": "ipython",
    "version": 3
   },
   "file_extension": ".py",
   "mimetype": "text/x-python",
   "name": "python",
   "nbconvert_exporter": "python",
   "pygments_lexer": "ipython3",
   "version": "3.7.3"
  }
 },
 "nbformat": 4,
 "nbformat_minor": 2
}
